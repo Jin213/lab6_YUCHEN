{
 "cells": [
  {
   "cell_type": "code",
   "execution_count": 3,
   "metadata": {},
   "outputs": [],
   "source": [
    "import csv\n",
    "from datetime import date\n",
    "\n",
    "\n",
    "#Problem1\n",
    "def parse_row(line):\n",
    "    newDateList = line.split(\",\")\n",
    "    if newDateList[1] == \"NONE\\n\":\n",
    "        num = -1\n",
    "    else:\n",
    "        num = int(newDateList[1])\n",
    "    return (newDateList[0], num)"
   ]
  },
  {
   "cell_type": "code",
   "execution_count": 4,
   "metadata": {},
   "outputs": [],
   "source": [
    "with open('juror_counts.csv',\"r\") as fileReader:\n",
    "    dateListofTulple = []\n",
    "    next(fileReader)\n",
    "    for row in fileReader:\n",
    "        newTuple = parse_row(row)\n",
    "        dateListofTulple.append(newTuple)"
   ]
  },
  {
   "cell_type": "code",
   "execution_count": 5,
   "metadata": {},
   "outputs": [
    {
     "name": "stdout",
     "output_type": "stream",
     "text": [
      "460.7291666666667\n",
      "397.9166666666667\n",
      "262.8979591836735\n",
      "41.69387755102041\n",
      "6.1875\n"
     ]
    }
   ],
   "source": [
    "numofDays = [0,0,0,0,0]\n",
    "numofCall = [0,0,0,0,0]\n",
    "for i in range (len(dateListofTulple)):\n",
    "    newDate = dateListofTulple[i][0].split(\"-\")\n",
    "    weekDay = date(int(newDate[0]),int(newDate[1]),int(newDate[2])).weekday()\n",
    "    if weekDay == 0:\n",
    "        numofDays[0] += 1\n",
    "        if dateListofTulple[i][1] == -1:\n",
    "            numofCall[0] += 0\n",
    "        else:\n",
    "            numofCall[0] += dateListofTulple[i][1]\n",
    "        \n",
    "    if weekDay == 1:\n",
    "        numofDays[1] += 1\n",
    "        if dateListofTulple[i][1] == -1:\n",
    "            numofCall[1] += 0\n",
    "        else:\n",
    "            numofCall[1] += dateListofTulple[i][1]\n",
    "    if weekDay == 2:\n",
    "        numofDays[2] += 1\n",
    "        if dateListofTulple[i][1] == -1:\n",
    "            numofCall[2] += 0\n",
    "        else:\n",
    "            numofCall[2] += dateListofTulple[i][1]\n",
    "    if weekDay == 3:\n",
    "        numofDays[3] += 1\n",
    "        if dateListofTulple[i][1] == -1:\n",
    "            numofCall[3] += 0\n",
    "        else:\n",
    "            numofCall[3] += dateListofTulple[i][1]\n",
    "    if weekDay == 4:\n",
    "        numofDays[4] += 1\n",
    "        if dateListofTulple[i][1] == -1:\n",
    "            numofCall[4] += 0\n",
    "        else:\n",
    "            numofCall[4] += dateListofTulple[i][1]\n",
    "for i in range (5):\n",
    "    print(numofCall[i]/numofDays[i])"
   ]
  },
  {
   "cell_type": "code",
   "execution_count": 10,
   "metadata": {},
   "outputs": [
    {
     "name": "stdout",
     "output_type": "stream",
     "text": [
      "552.875\n",
      "424.44444444444446\n",
      "306.7142857142857\n",
      "113.5\n",
      "297.0\n"
     ]
    }
   ],
   "source": [
    "numofDays2 = [0,0,0,0,0]\n",
    "numofCall2 = [0,0,0,0,0]\n",
    "for i in range (len(dateListofTulple)):\n",
    "    newDate = dateListofTulple[i][0].split(\"-\")\n",
    "    weekDay = date(int(newDate[0]),int(newDate[1]),int(newDate[2])).weekday()\n",
    "    if dateListofTulple[i][1] != -1:\n",
    "        if weekDay == 0:\n",
    "            numofDays2[0] += 1\n",
    "            numofCall2[0] += dateListofTulple[i][1]\n",
    "        if weekDay == 1:\n",
    "            numofDays2[1] += 1\n",
    "            numofCall2[1] += dateListofTulple[i][1]\n",
    "        if weekDay == 2:\n",
    "            numofDays2[2] += 1\n",
    "            numofCall2[2] += dateListofTulple[i][1]\n",
    "        if weekDay == 3:\n",
    "            numofDays2[3] += 1\n",
    "            numofCall2[3] += dateListofTulple[i][1]\n",
    "        if weekDay == 4:\n",
    "            numofDays2[4] += 1\n",
    "            numofCall2[4] += dateListofTulple[i][1]\n",
    "\n",
    "    \n",
    "\n",
    "\n",
    "for i in range (5):\n",
    "    print(numofCall2[i]/numofDays2[i])\n",
    "            \n",
    "    \n",
    "\n"
   ]
  },
  {
   "cell_type": "code",
   "execution_count": null,
   "metadata": {},
   "outputs": [],
   "source": []
  }
 ],
 "metadata": {
  "kernelspec": {
   "display_name": "Python 3",
   "language": "python",
   "name": "python3"
  },
  "language_info": {
   "codemirror_mode": {
    "name": "ipython",
    "version": 3
   },
   "file_extension": ".py",
   "mimetype": "text/x-python",
   "name": "python",
   "nbconvert_exporter": "python",
   "pygments_lexer": "ipython3",
   "version": "3.7.1"
  }
 },
 "nbformat": 4,
 "nbformat_minor": 2
}
